{
 "cells": [
  {
   "cell_type": "markdown",
   "metadata": {},
   "source": [
    "# Package Import"
   ]
  },
  {
   "cell_type": "code",
   "execution_count": 1,
   "metadata": {},
   "outputs": [],
   "source": [
    "import geopandas as gpd\n",
    "import topojson as tp\n",
    "import json"
   ]
  },
  {
   "cell_type": "markdown",
   "metadata": {},
   "source": [
    "# Preprocessing"
   ]
  },
  {
   "cell_type": "code",
   "execution_count": 2,
   "metadata": {},
   "outputs": [],
   "source": [
    "# specifying spatial data file paths\n",
    "shp_path_nwsw_sub = './data-shp/nwsw-subdivisions-shp/nwsw_subdivisions.shp'\n",
    "geojson_path = './export/geojson/nwsw_subdivisions_python.geojson'\n",
    "topojson_path = './export/topojson/nwsw_subdivisions_python_geojson_topojson.json'\n",
    "\n",
    "# read shp file to geopandas dataframe\n",
    "nwsw_subdivisions_gdf = gpd.read_file(shp_path_nwsw_sub)"
   ]
  },
  {
   "cell_type": "markdown",
   "metadata": {},
   "source": [
    "# Converting SHP to GeoJSON"
   ]
  },
  {
   "cell_type": "code",
   "execution_count": 3,
   "metadata": {},
   "outputs": [],
   "source": [
    "# export geopandas dataframe to geojson\n",
    "nwsw_subdivisions_gdf.to_file(geojson_path)"
   ]
  },
  {
   "cell_type": "markdown",
   "metadata": {},
   "source": [
    "# Converting GeoJSON to TopoJSON"
   ]
  },
  {
   "cell_type": "code",
   "execution_count": 4,
   "metadata": {},
   "outputs": [],
   "source": [
    "# function to convert geojson to topojson\n",
    "def geojson_to_topojson(geo_path, topo_path):\n",
    "    # load geojson_data\n",
    "    with open(geo_path, 'r') as f:\n",
    "        geojson_data = json.load(f)\n",
    "    \n",
    "    # convert to topojson\n",
    "    topojson_data = tp.Topology(geojson_data).to_dict()\n",
    "    \n",
    "    # export topojson\n",
    "    with open(topo_path, 'w') as f:\n",
    "        json.dump(topojson_data, f)"
   ]
  },
  {
   "cell_type": "code",
   "execution_count": 5,
   "metadata": {},
   "outputs": [],
   "source": [
    "# convert from geojson to topojson\n",
    "geojson_to_topojson(geojson_path, topojson_path)"
   ]
  },
  {
   "cell_type": "markdown",
   "metadata": {},
   "source": [
    "# Directly Converting SHP to TopoJSON"
   ]
  },
  {
   "cell_type": "code",
   "execution_count": 6,
   "metadata": {},
   "outputs": [
    {
     "name": "stdout",
     "output_type": "stream",
     "text": [
      "<class 'geopandas.geodataframe.GeoDataFrame'>\n",
      "RangeIndex: 65 entries, 0 to 64\n",
      "Data columns (total 23 columns):\n",
      " #   Column      Non-Null Count  Dtype         \n",
      "---  ------      --------------  -----         \n",
      " 0   Shape_Leng  65 non-null     float64       \n",
      " 1   Shape_Area  65 non-null     float64       \n",
      " 2   ADM3_EN     0 non-null      object        \n",
      " 3   ADM3_FR     65 non-null     object        \n",
      " 4   ADM3_PCODE  65 non-null     object        \n",
      " 5   ADM3_REF    0 non-null      object        \n",
      " 6   ADM3ALT1EN  0 non-null      object        \n",
      " 7   ADM3ALT2EN  0 non-null      object        \n",
      " 8   ADM3ALT1FR  0 non-null      object        \n",
      " 9   ADM3ALT2FR  0 non-null      object        \n",
      " 10  ADM2_EN     0 non-null      object        \n",
      " 11  ADM2_FR     65 non-null     object        \n",
      " 12  ADM2_PCODE  65 non-null     object        \n",
      " 13  ADM1_EN     65 non-null     object        \n",
      " 14  ADM1_FR     65 non-null     object        \n",
      " 15  ADM1_PCODE  65 non-null     object        \n",
      " 16  ADM0_EN     65 non-null     object        \n",
      " 17  ADM0_FR     65 non-null     object        \n",
      " 18  ADM0_PCODE  65 non-null     object        \n",
      " 19  date        65 non-null     datetime64[ms]\n",
      " 20  validOn     65 non-null     datetime64[ms]\n",
      " 21  validTo     0 non-null      datetime64[ms]\n",
      " 22  geometry    65 non-null     geometry      \n",
      "dtypes: datetime64[ms](3), float64(2), geometry(1), object(17)\n",
      "memory usage: 11.8+ KB\n"
     ]
    }
   ],
   "source": [
    "# inspecting geopandas dataframe to verify column datatypes\n",
    "nwsw_subdivisions_gdf.info()"
   ]
  },
  {
   "cell_type": "code",
   "execution_count": 7,
   "metadata": {},
   "outputs": [
    {
     "data": {
      "text/plain": [
       "date       object\n",
       "validOn    object\n",
       "validTo    object\n",
       "dtype: object"
      ]
     },
     "execution_count": 7,
     "metadata": {},
     "output_type": "execute_result"
    }
   ],
   "source": [
    "# select datetime columns\n",
    "datetime_cols = [col for col in nwsw_subdivisions_gdf.columns if nwsw_subdivisions_gdf[col].dtype.name.startswith(\"datetime\")]\n",
    "\n",
    "# apply str format to all datetime columns\n",
    "nwsw_subdivisions_gdf[datetime_cols] = nwsw_subdivisions_gdf[datetime_cols].astype(str)\n",
    "\n",
    "# confirm datatype change\n",
    "nwsw_subdivisions_gdf[datetime_cols].dtypes"
   ]
  },
  {
   "cell_type": "code",
   "execution_count": 8,
   "metadata": {},
   "outputs": [],
   "source": [
    "# convert topojson data to python dictionary\n",
    "topo_nwsw_subdivisions_data = tp.Topology(nwsw_subdivisions_gdf).to_dict()\n",
    "\n",
    "# setting exported topojson file path\n",
    "topo_path = './export/topojson/nwsw_subdivisions_python_shp_topojson.json'\n",
    "\n",
    "# export python dictionary with topo data as json\n",
    "with open(topo_path, 'w') as f:\n",
    "    json.dump(topo_nwsw_subdivisions_data, f)"
   ]
  }
 ],
 "metadata": {
  "kernelspec": {
   "display_name": ".venv",
   "language": "python",
   "name": "python3"
  },
  "language_info": {
   "codemirror_mode": {
    "name": "ipython",
    "version": 3
   },
   "file_extension": ".py",
   "mimetype": "text/x-python",
   "name": "python",
   "nbconvert_exporter": "python",
   "pygments_lexer": "ipython3",
   "version": "3.12.9"
  }
 },
 "nbformat": 4,
 "nbformat_minor": 2
}
